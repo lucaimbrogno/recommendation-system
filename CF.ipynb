{
 "cells": [
  {
   "cell_type": "markdown",
   "metadata": {},
   "source": [
    "# Recommendation system using collaborative filtering and the MovieLens dataset"
   ]
  },
  {
   "cell_type": "markdown",
   "metadata": {},
   "source": [
    "This movie dataset contains 100,836 ratings and 3683 tag applications across 9742 movies. These data were created by 610 users between March 29, 1996 and September 24, 2018.  This dataset was generated on September 26, 20.\n",
    "\n",
    "Obtained from: http://files.grouplens.org/datasets/movielens/ml-latest-small.zip\n",
    "\n",
    "Users were selected at random for inclusion. All selected users had rated at least 20 movies. No demographic informationis included.  Each user is represented by an id, and no other information is provided. The data are contained in the  files links.csv, movies.csv, ratings.csv and tags.csv"
   ]
  },
  {
   "cell_type": "code",
   "execution_count": 18,
   "metadata": {},
   "outputs": [],
   "source": [
    "import pandas as pd\n",
    "import numpy as np\n",
    "import random\n",
    "from sklearn.model_selection import train_test_split\n",
    "from sklearn.metrics.pairwise import cosine_similarity\n",
    "from sklearn.metrics import mean_squared_error"
   ]
  },
  {
   "cell_type": "code",
   "execution_count": 19,
   "metadata": {},
   "outputs": [],
   "source": [
    "rnames = ['user_id', 'movie_id', 'rating', 'timestamp']\n",
    "ratings = pd.read_csv('data/ratings.csv')\n",
    "\n",
    "mnames = ['movie_id', 'title', 'genres']\n",
    "movies = pd.read_csv('data/movies.csv')\n",
    "\n",
    "tnames = ['user_id', 'movie_id', 'tags', 'timestamp']\n",
    "tags = pd.read_csv('data/tags.csv')"
   ]
  },
  {
   "cell_type": "code",
   "execution_count": 20,
   "metadata": {},
   "outputs": [
    {
     "data": {
      "text/html": [
       "<div>\n",
       "<style scoped>\n",
       "    .dataframe tbody tr th:only-of-type {\n",
       "        vertical-align: middle;\n",
       "    }\n",
       "\n",
       "    .dataframe tbody tr th {\n",
       "        vertical-align: top;\n",
       "    }\n",
       "\n",
       "    .dataframe thead th {\n",
       "        text-align: right;\n",
       "    }\n",
       "</style>\n",
       "<table border=\"1\" class=\"dataframe\">\n",
       "  <thead>\n",
       "    <tr style=\"text-align: right;\">\n",
       "      <th></th>\n",
       "      <th>userId</th>\n",
       "      <th>movieId</th>\n",
       "      <th>rating</th>\n",
       "      <th>timestamp</th>\n",
       "    </tr>\n",
       "  </thead>\n",
       "  <tbody>\n",
       "    <tr>\n",
       "      <td>0</td>\n",
       "      <td>1</td>\n",
       "      <td>1</td>\n",
       "      <td>4.0</td>\n",
       "      <td>964982703</td>\n",
       "    </tr>\n",
       "    <tr>\n",
       "      <td>1</td>\n",
       "      <td>1</td>\n",
       "      <td>3</td>\n",
       "      <td>4.0</td>\n",
       "      <td>964981247</td>\n",
       "    </tr>\n",
       "    <tr>\n",
       "      <td>2</td>\n",
       "      <td>1</td>\n",
       "      <td>6</td>\n",
       "      <td>4.0</td>\n",
       "      <td>964982224</td>\n",
       "    </tr>\n",
       "    <tr>\n",
       "      <td>3</td>\n",
       "      <td>1</td>\n",
       "      <td>47</td>\n",
       "      <td>5.0</td>\n",
       "      <td>964983815</td>\n",
       "    </tr>\n",
       "    <tr>\n",
       "      <td>4</td>\n",
       "      <td>1</td>\n",
       "      <td>50</td>\n",
       "      <td>5.0</td>\n",
       "      <td>964982931</td>\n",
       "    </tr>\n",
       "  </tbody>\n",
       "</table>\n",
       "</div>"
      ],
      "text/plain": [
       "   userId  movieId  rating  timestamp\n",
       "0       1        1     4.0  964982703\n",
       "1       1        3     4.0  964981247\n",
       "2       1        6     4.0  964982224\n",
       "3       1       47     5.0  964983815\n",
       "4       1       50     5.0  964982931"
      ]
     },
     "execution_count": 20,
     "metadata": {},
     "output_type": "execute_result"
    }
   ],
   "source": [
    "ratings[:5]"
   ]
  },
  {
   "cell_type": "code",
   "execution_count": 21,
   "metadata": {},
   "outputs": [
    {
     "data": {
      "text/html": [
       "<div>\n",
       "<style scoped>\n",
       "    .dataframe tbody tr th:only-of-type {\n",
       "        vertical-align: middle;\n",
       "    }\n",
       "\n",
       "    .dataframe tbody tr th {\n",
       "        vertical-align: top;\n",
       "    }\n",
       "\n",
       "    .dataframe thead th {\n",
       "        text-align: right;\n",
       "    }\n",
       "</style>\n",
       "<table border=\"1\" class=\"dataframe\">\n",
       "  <thead>\n",
       "    <tr style=\"text-align: right;\">\n",
       "      <th></th>\n",
       "      <th>movieId</th>\n",
       "      <th>title</th>\n",
       "      <th>genres</th>\n",
       "    </tr>\n",
       "  </thead>\n",
       "  <tbody>\n",
       "    <tr>\n",
       "      <td>0</td>\n",
       "      <td>1</td>\n",
       "      <td>Toy Story (1995)</td>\n",
       "      <td>Adventure|Animation|Children|Comedy|Fantasy</td>\n",
       "    </tr>\n",
       "    <tr>\n",
       "      <td>1</td>\n",
       "      <td>2</td>\n",
       "      <td>Jumanji (1995)</td>\n",
       "      <td>Adventure|Children|Fantasy</td>\n",
       "    </tr>\n",
       "    <tr>\n",
       "      <td>2</td>\n",
       "      <td>3</td>\n",
       "      <td>Grumpier Old Men (1995)</td>\n",
       "      <td>Comedy|Romance</td>\n",
       "    </tr>\n",
       "    <tr>\n",
       "      <td>3</td>\n",
       "      <td>4</td>\n",
       "      <td>Waiting to Exhale (1995)</td>\n",
       "      <td>Comedy|Drama|Romance</td>\n",
       "    </tr>\n",
       "    <tr>\n",
       "      <td>4</td>\n",
       "      <td>5</td>\n",
       "      <td>Father of the Bride Part II (1995)</td>\n",
       "      <td>Comedy</td>\n",
       "    </tr>\n",
       "  </tbody>\n",
       "</table>\n",
       "</div>"
      ],
      "text/plain": [
       "   movieId                               title  \\\n",
       "0        1                    Toy Story (1995)   \n",
       "1        2                      Jumanji (1995)   \n",
       "2        3             Grumpier Old Men (1995)   \n",
       "3        4            Waiting to Exhale (1995)   \n",
       "4        5  Father of the Bride Part II (1995)   \n",
       "\n",
       "                                        genres  \n",
       "0  Adventure|Animation|Children|Comedy|Fantasy  \n",
       "1                   Adventure|Children|Fantasy  \n",
       "2                               Comedy|Romance  \n",
       "3                         Comedy|Drama|Romance  \n",
       "4                                       Comedy  "
      ]
     },
     "execution_count": 21,
     "metadata": {},
     "output_type": "execute_result"
    }
   ],
   "source": [
    "movies[:5]"
   ]
  },
  {
   "cell_type": "code",
   "execution_count": 22,
   "metadata": {},
   "outputs": [
    {
     "data": {
      "text/html": [
       "<div>\n",
       "<style scoped>\n",
       "    .dataframe tbody tr th:only-of-type {\n",
       "        vertical-align: middle;\n",
       "    }\n",
       "\n",
       "    .dataframe tbody tr th {\n",
       "        vertical-align: top;\n",
       "    }\n",
       "\n",
       "    .dataframe thead th {\n",
       "        text-align: right;\n",
       "    }\n",
       "</style>\n",
       "<table border=\"1\" class=\"dataframe\">\n",
       "  <thead>\n",
       "    <tr style=\"text-align: right;\">\n",
       "      <th></th>\n",
       "      <th>userId</th>\n",
       "      <th>movieId</th>\n",
       "      <th>tag</th>\n",
       "      <th>timestamp</th>\n",
       "    </tr>\n",
       "  </thead>\n",
       "  <tbody>\n",
       "    <tr>\n",
       "      <td>0</td>\n",
       "      <td>2</td>\n",
       "      <td>60756</td>\n",
       "      <td>funny</td>\n",
       "      <td>1445714994</td>\n",
       "    </tr>\n",
       "    <tr>\n",
       "      <td>1</td>\n",
       "      <td>2</td>\n",
       "      <td>60756</td>\n",
       "      <td>Highly quotable</td>\n",
       "      <td>1445714996</td>\n",
       "    </tr>\n",
       "    <tr>\n",
       "      <td>2</td>\n",
       "      <td>2</td>\n",
       "      <td>60756</td>\n",
       "      <td>will ferrell</td>\n",
       "      <td>1445714992</td>\n",
       "    </tr>\n",
       "    <tr>\n",
       "      <td>3</td>\n",
       "      <td>2</td>\n",
       "      <td>89774</td>\n",
       "      <td>Boxing story</td>\n",
       "      <td>1445715207</td>\n",
       "    </tr>\n",
       "    <tr>\n",
       "      <td>4</td>\n",
       "      <td>2</td>\n",
       "      <td>89774</td>\n",
       "      <td>MMA</td>\n",
       "      <td>1445715200</td>\n",
       "    </tr>\n",
       "  </tbody>\n",
       "</table>\n",
       "</div>"
      ],
      "text/plain": [
       "   userId  movieId              tag   timestamp\n",
       "0       2    60756            funny  1445714994\n",
       "1       2    60756  Highly quotable  1445714996\n",
       "2       2    60756     will ferrell  1445714992\n",
       "3       2    89774     Boxing story  1445715207\n",
       "4       2    89774              MMA  1445715200"
      ]
     },
     "execution_count": 22,
     "metadata": {},
     "output_type": "execute_result"
    }
   ],
   "source": [
    "tags[:5]"
   ]
  },
  {
   "cell_type": "markdown",
   "metadata": {},
   "source": [
    "## Data Pre-Processing"
   ]
  },
  {
   "cell_type": "markdown",
   "metadata": {},
   "source": [
    "Merging ratings and movies tables"
   ]
  },
  {
   "cell_type": "code",
   "execution_count": 53,
   "metadata": {},
   "outputs": [
    {
     "data": {
      "text/html": [
       "<div>\n",
       "<style scoped>\n",
       "    .dataframe tbody tr th:only-of-type {\n",
       "        vertical-align: middle;\n",
       "    }\n",
       "\n",
       "    .dataframe tbody tr th {\n",
       "        vertical-align: top;\n",
       "    }\n",
       "\n",
       "    .dataframe thead th {\n",
       "        text-align: right;\n",
       "    }\n",
       "</style>\n",
       "<table border=\"1\" class=\"dataframe\">\n",
       "  <thead>\n",
       "    <tr style=\"text-align: right;\">\n",
       "      <th></th>\n",
       "      <th>userId</th>\n",
       "      <th>movieId</th>\n",
       "      <th>rating</th>\n",
       "      <th>timestamp</th>\n",
       "      <th>title</th>\n",
       "      <th>genres</th>\n",
       "    </tr>\n",
       "  </thead>\n",
       "  <tbody>\n",
       "    <tr>\n",
       "      <td>0</td>\n",
       "      <td>1</td>\n",
       "      <td>1</td>\n",
       "      <td>4.0</td>\n",
       "      <td>964982703</td>\n",
       "      <td>Toy Story (1995)</td>\n",
       "      <td>Adventure|Animation|Children|Comedy|Fantasy</td>\n",
       "    </tr>\n",
       "    <tr>\n",
       "      <td>1</td>\n",
       "      <td>5</td>\n",
       "      <td>1</td>\n",
       "      <td>4.0</td>\n",
       "      <td>847434962</td>\n",
       "      <td>Toy Story (1995)</td>\n",
       "      <td>Adventure|Animation|Children|Comedy|Fantasy</td>\n",
       "    </tr>\n",
       "    <tr>\n",
       "      <td>2</td>\n",
       "      <td>7</td>\n",
       "      <td>1</td>\n",
       "      <td>4.5</td>\n",
       "      <td>1106635946</td>\n",
       "      <td>Toy Story (1995)</td>\n",
       "      <td>Adventure|Animation|Children|Comedy|Fantasy</td>\n",
       "    </tr>\n",
       "    <tr>\n",
       "      <td>3</td>\n",
       "      <td>15</td>\n",
       "      <td>1</td>\n",
       "      <td>2.5</td>\n",
       "      <td>1510577970</td>\n",
       "      <td>Toy Story (1995)</td>\n",
       "      <td>Adventure|Animation|Children|Comedy|Fantasy</td>\n",
       "    </tr>\n",
       "    <tr>\n",
       "      <td>4</td>\n",
       "      <td>17</td>\n",
       "      <td>1</td>\n",
       "      <td>4.5</td>\n",
       "      <td>1305696483</td>\n",
       "      <td>Toy Story (1995)</td>\n",
       "      <td>Adventure|Animation|Children|Comedy|Fantasy</td>\n",
       "    </tr>\n",
       "  </tbody>\n",
       "</table>\n",
       "</div>"
      ],
      "text/plain": [
       "   userId  movieId  rating   timestamp             title  \\\n",
       "0       1        1     4.0   964982703  Toy Story (1995)   \n",
       "1       5        1     4.0   847434962  Toy Story (1995)   \n",
       "2       7        1     4.5  1106635946  Toy Story (1995)   \n",
       "3      15        1     2.5  1510577970  Toy Story (1995)   \n",
       "4      17        1     4.5  1305696483  Toy Story (1995)   \n",
       "\n",
       "                                        genres  \n",
       "0  Adventure|Animation|Children|Comedy|Fantasy  \n",
       "1  Adventure|Animation|Children|Comedy|Fantasy  \n",
       "2  Adventure|Animation|Children|Comedy|Fantasy  \n",
       "3  Adventure|Animation|Children|Comedy|Fantasy  \n",
       "4  Adventure|Animation|Children|Comedy|Fantasy  "
      ]
     },
     "execution_count": 53,
     "metadata": {},
     "output_type": "execute_result"
    }
   ],
   "source": [
    "movie_ratings = pd.merge(ratings,movies)\n",
    "movie_ratings.head()"
   ]
  },
  {
   "cell_type": "markdown",
   "metadata": {},
   "source": [
    "Create unique integer encoding for each user and each movie"
   ]
  },
  {
   "cell_type": "code",
   "execution_count": 54,
   "metadata": {},
   "outputs": [
    {
     "data": {
      "text/html": [
       "<div>\n",
       "<style scoped>\n",
       "    .dataframe tbody tr th:only-of-type {\n",
       "        vertical-align: middle;\n",
       "    }\n",
       "\n",
       "    .dataframe tbody tr th {\n",
       "        vertical-align: top;\n",
       "    }\n",
       "\n",
       "    .dataframe thead th {\n",
       "        text-align: right;\n",
       "    }\n",
       "</style>\n",
       "<table border=\"1\" class=\"dataframe\">\n",
       "  <thead>\n",
       "    <tr style=\"text-align: right;\">\n",
       "      <th></th>\n",
       "      <th>userId</th>\n",
       "      <th>movieId</th>\n",
       "      <th>rating</th>\n",
       "      <th>timestamp</th>\n",
       "      <th>title</th>\n",
       "      <th>genres</th>\n",
       "      <th>user_encoding</th>\n",
       "      <th>movie_encoding</th>\n",
       "    </tr>\n",
       "  </thead>\n",
       "  <tbody>\n",
       "    <tr>\n",
       "      <td>0</td>\n",
       "      <td>1</td>\n",
       "      <td>1</td>\n",
       "      <td>4.0</td>\n",
       "      <td>964982703</td>\n",
       "      <td>Toy Story (1995)</td>\n",
       "      <td>Adventure|Animation|Children|Comedy|Fantasy</td>\n",
       "      <td>0</td>\n",
       "      <td>0</td>\n",
       "    </tr>\n",
       "    <tr>\n",
       "      <td>1</td>\n",
       "      <td>5</td>\n",
       "      <td>1</td>\n",
       "      <td>4.0</td>\n",
       "      <td>847434962</td>\n",
       "      <td>Toy Story (1995)</td>\n",
       "      <td>Adventure|Animation|Children|Comedy|Fantasy</td>\n",
       "      <td>1</td>\n",
       "      <td>0</td>\n",
       "    </tr>\n",
       "    <tr>\n",
       "      <td>2</td>\n",
       "      <td>7</td>\n",
       "      <td>1</td>\n",
       "      <td>4.5</td>\n",
       "      <td>1106635946</td>\n",
       "      <td>Toy Story (1995)</td>\n",
       "      <td>Adventure|Animation|Children|Comedy|Fantasy</td>\n",
       "      <td>2</td>\n",
       "      <td>0</td>\n",
       "    </tr>\n",
       "    <tr>\n",
       "      <td>3</td>\n",
       "      <td>15</td>\n",
       "      <td>1</td>\n",
       "      <td>2.5</td>\n",
       "      <td>1510577970</td>\n",
       "      <td>Toy Story (1995)</td>\n",
       "      <td>Adventure|Animation|Children|Comedy|Fantasy</td>\n",
       "      <td>3</td>\n",
       "      <td>0</td>\n",
       "    </tr>\n",
       "    <tr>\n",
       "      <td>4</td>\n",
       "      <td>17</td>\n",
       "      <td>1</td>\n",
       "      <td>4.5</td>\n",
       "      <td>1305696483</td>\n",
       "      <td>Toy Story (1995)</td>\n",
       "      <td>Adventure|Animation|Children|Comedy|Fantasy</td>\n",
       "      <td>4</td>\n",
       "      <td>0</td>\n",
       "    </tr>\n",
       "  </tbody>\n",
       "</table>\n",
       "</div>"
      ],
      "text/plain": [
       "   userId  movieId  rating   timestamp             title  \\\n",
       "0       1        1     4.0   964982703  Toy Story (1995)   \n",
       "1       5        1     4.0   847434962  Toy Story (1995)   \n",
       "2       7        1     4.5  1106635946  Toy Story (1995)   \n",
       "3      15        1     2.5  1510577970  Toy Story (1995)   \n",
       "4      17        1     4.5  1305696483  Toy Story (1995)   \n",
       "\n",
       "                                        genres  user_encoding  movie_encoding  \n",
       "0  Adventure|Animation|Children|Comedy|Fantasy              0               0  \n",
       "1  Adventure|Animation|Children|Comedy|Fantasy              1               0  \n",
       "2  Adventure|Animation|Children|Comedy|Fantasy              2               0  \n",
       "3  Adventure|Animation|Children|Comedy|Fantasy              3               0  \n",
       "4  Adventure|Animation|Children|Comedy|Fantasy              4               0  "
      ]
     },
     "execution_count": 54,
     "metadata": {},
     "output_type": "execute_result"
    }
   ],
   "source": [
    "\n",
    "user_ids = movie_ratings[\"userId\"].unique().tolist()\n",
    "# use this dictionary to get unique integer encoding from original userid\n",
    "user_encoding = {x: i for i, x in enumerate(user_ids)}\n",
    "# use this dictionary to get original userid from integer encoding value\n",
    "user_id_lookup = {i: x for i, x in enumerate(user_ids)}\n",
    "\n",
    "# Same process for movies\n",
    "movie_ids = movie_ratings[\"movieId\"].unique().tolist()\n",
    "# use this dict to get unique integer encoding from original movie id\n",
    "movie_encoding = {x: i for i, x in enumerate(movie_ids)}\n",
    "# use this dict to get original movieid from integer encoding value\n",
    "movie_id_lookup = {i: x for i, x in enumerate(movie_ids)}\n",
    "\n",
    "# Add new columns for unique integer encodings\n",
    "movie_ratings[\"user_encoding\"] = movie_ratings[\"userId\"].map(user_encoding)\n",
    "movie_ratings[\"movie_encoding\"] = movie_ratings[\"movieId\"].map(movie_encoding)\n",
    "\n",
    "\n",
    "movie_ratings.head()"
   ]
  },
  {
   "cell_type": "markdown",
   "metadata": {},
   "source": [
    "Converting table to a ratings matrix using user_encoding as unique rows and movie_encoding as unique columns. We do this so we can use the index of the np array to represent a particular user-item pair. ie. ratings_matrix[2,4] represents user 2's movie rating for movie 4. This would not work if we used the default userid and movieid since there are missing ids in this dataset. "
   ]
  },
  {
   "cell_type": "code",
   "execution_count": 110,
   "metadata": {},
   "outputs": [
    {
     "data": {
      "text/plain": [
       "array([[4. , 4. , 4. , ..., 0. , 0. , 0. ],\n",
       "       [4. , 0. , 0. , ..., 0. , 0. , 0. ],\n",
       "       [4.5, 0. , 0. , ..., 0. , 0. , 0. ],\n",
       "       ...,\n",
       "       [0. , 0. , 0. , ..., 0. , 0. , 0. ],\n",
       "       [0. , 0. , 0. , ..., 0. , 0. , 0. ],\n",
       "       [0. , 0. , 0. , ..., 0. , 0. , 0. ]])"
      ]
     },
     "execution_count": 110,
     "metadata": {},
     "output_type": "execute_result"
    }
   ],
   "source": [
    "user_ratings = movie_ratings.pivot_table('rating', index='user_encoding', columns='movie_encoding')\n",
    "user_ratings = user_ratings.fillna(0)\n",
    "\n",
    "item_ratings = movie_ratings.pivot_table('rating', index='movie_encoding', columns='user_encoding')\n",
    "item_ratings = item_ratings.fillna(0)\n",
    "\n",
    "ratings_matrix = user_ratings.to_numpy()\n",
    "#ratings_matrix\n",
    "\n",
    "ratings_matrix_items = item_ratings.to_numpy()\n",
    "ratings_matrix"
   ]
  },
  {
   "cell_type": "markdown",
   "metadata": {},
   "source": [
    "Now that we have the proper format for our data matrix, we will split the data into training and testing sets. We will take 15 ratings from each user and use it for the test set"
   ]
  },
  {
   "cell_type": "code",
   "execution_count": 116,
   "metadata": {},
   "outputs": [],
   "source": [
    "def train_test_split(ratings):\n",
    "    # initialize test array with all 0s. Will be replaced by randomly selected ratings\n",
    "    train = ratings.copy()\n",
    "    test = np.zeros(ratings.shape)\n",
    "\n",
    "    # go through each user\n",
    "    for i in range(len(ratings_matrix)):\n",
    "        \n",
    "        # Take 15 random ratings that are not 0 and place them in the test set\n",
    "        test_values = np.random.choice(ratings[i].nonzero()[0], size=15)\n",
    "        \n",
    "        # remove 15 ratings from training set\n",
    "        train[i, test_values] = 0.\n",
    "        \n",
    "        # Add 15 rating to test set\n",
    "        test[i, test_values] = ratings[i, test_values]\n",
    "        \n",
    "    \n",
    "    return train, test\n",
    "\n",
    "train, test = train_test_split(ratings_matrix)\n",
    "item_train, item_test = train_test_split(ratings_matrix_items)"
   ]
  },
  {
   "cell_type": "markdown",
   "metadata": {},
   "source": [
    "Next we will calculate similarity between users using cosine similary measure"
   ]
  },
  {
   "cell_type": "code",
   "execution_count": 117,
   "metadata": {},
   "outputs": [
    {
     "name": "stdout",
     "output_type": "stream",
     "text": [
      "[[1.         0.10318585 0.16280841 ... 0.         0.         0.        ]\n",
      " [0.10318585 1.         0.08601394 ... 0.05165088 0.         0.        ]\n",
      " [0.16280841 0.08601394 1.         ... 0.0669029  0.02761129 0.        ]\n",
      " ...\n",
      " [0.         0.05165088 0.0669029  ... 1.         0.         0.        ]\n",
      " [0.         0.         0.02761129 ... 0.         1.         0.        ]\n",
      " [0.         0.         0.         ... 0.         0.         1.        ]]\n"
     ]
    }
   ],
   "source": [
    "user_sim = cosine_similarity(train, dense_output=False)\n",
    "print(user_sim)"
   ]
  },
  {
   "cell_type": "code",
   "execution_count": 118,
   "metadata": {},
   "outputs": [
    {
     "name": "stdout",
     "output_type": "stream",
     "text": [
      "[[1.         0.27325176 0.35883836 ... 0.09105973 0.09105973 0.09105973]\n",
      " [0.27325176 1.         0.23055021 ... 0.         0.         0.        ]\n",
      " [0.35883836 0.23055021 1.         ... 0.12954281 0.12954281 0.12954281]\n",
      " ...\n",
      " [0.09105973 0.         0.12954281 ... 1.         1.         1.        ]\n",
      " [0.09105973 0.         0.12954281 ... 1.         1.         1.        ]\n",
      " [0.09105973 0.         0.12954281 ... 1.         1.         1.        ]]\n"
     ]
    }
   ],
   "source": [
    "item_sim = cosine_similarity(train.T, dense_output=False)\n",
    "print(item_sim)"
   ]
  },
  {
   "cell_type": "code",
   "execution_count": 132,
   "metadata": {},
   "outputs": [
    {
     "name": "stdout",
     "output_type": "stream",
     "text": [
      "610 9724\n",
      "9724 610\n"
     ]
    }
   ],
   "source": [
    "print(str(len(user_sim[0])) + \" \" + str(len(train[0])))\n",
    "print(str(len(item_sim[0])) + \" \" + str(len(item_train[0])))"
   ]
  },
  {
   "cell_type": "code",
   "execution_count": 106,
   "metadata": {},
   "outputs": [
    {
     "data": {
      "text/plain": [
       "array([1.        , 0.10785396, 0.14037775, 0.12481003, 0.19263516,\n",
       "       0.19644447, 0.30075766, 0.13210956, 0.20865584, 0.12904635,\n",
       "       0.15719837, 0.14136494, 0.08104609, 0.12789549, 0.10665548,\n",
       "       0.30349463, 0.09120269, 0.09958916, 0.10434783, 0.33995237,\n",
       "       0.19041719, 0.3021994 , 0.22248137, 0.25110321, 0.0855189 ,\n",
       "       0.03891894, 0.15651848, 0.15472952, 0.20401106, 0.08524163,\n",
       "       0.02607592, 0.05246066, 0.32840643, 0.21979059, 0.23935678,\n",
       "       0.0421641 , 0.19222475, 0.0446147 , 0.16250538, 0.05145366,\n",
       "       0.09162253, 0.16686502, 0.06776309, 0.12799247, 0.13368339,\n",
       "       0.3019355 , 0.19257831, 0.19477801, 0.15790579, 0.17720952,\n",
       "       0.06299408, 0.0692695 , 0.06073847, 0.15452329, 0.19419181,\n",
       "       0.04753497, 0.26952624, 0.04589535, 0.21238966, 0.19209247,\n",
       "       0.15266341, 0.20587899, 0.19175726, 0.14033028, 0.11594259,\n",
       "       0.24622945, 0.02728069, 0.21438503, 0.08427572, 0.07925287,\n",
       "       0.15795318, 0.20087183, 0.29887381, 0.06733294, 0.05032487,\n",
       "       0.07919255, 0.13859389, 0.31740093, 0.23525384, 0.23387399,\n",
       "       0.12126103, 0.26820589, 0.10280093, 0.13371093, 0.13335431,\n",
       "       0.27168437, 0.27750529, 0.1360917 , 0.16734184, 0.17812992,\n",
       "       0.022546  , 0.13698377, 0.15903857, 0.09947016, 0.32925453,\n",
       "       0.04782775, 0.09512098, 0.09407461, 0.26115168, 0.16806294,\n",
       "       0.14482111, 0.04976633, 0.14619738, 0.06769602, 0.21380282,\n",
       "       0.08185782, 0.31609999, 0.17930957, 0.        , 0.19684863,\n",
       "       0.05403373, 0.18209887, 0.23901646, 0.24869885, 0.14665345,\n",
       "       0.17817157, 0.13845613, 0.26729628, 0.30388621, 0.2160286 ,\n",
       "       0.13994046, 0.17200035, 0.09965897, 0.10009572, 0.01444882,\n",
       "       0.09988983, 0.08817951, 0.13491852, 0.21368985, 0.10791798,\n",
       "       0.05352764, 0.13513783, 0.22058252, 0.13405865, 0.03907352,\n",
       "       0.25002852, 0.21435111, 0.12756122, 0.25659748, 0.05085874,\n",
       "       0.25694943, 0.07063522, 0.13355239, 0.01450468, 0.13409078,\n",
       "       0.07799659, 0.27063401, 0.10852108, 0.08495874, 0.12844908,\n",
       "       0.2524069 , 0.10461654, 0.18383877, 0.06728334, 0.24432718,\n",
       "       0.1232678 , 0.23246039, 0.07797533, 0.01586949, 0.13896315,\n",
       "       0.09351876, 0.31767809, 0.15099917, 0.04793272, 0.20702153,\n",
       "       0.07086144, 0.24612615, 0.29954899, 0.22209156, 0.15495353,\n",
       "       0.09348174, 0.05807373, 0.06493268, 0.12658135, 0.02927516,\n",
       "       0.13023168, 0.21689715, 0.1662228 , 0.18393274, 0.23359735,\n",
       "       0.18620077, 0.09959668, 0.08088684, 0.05186845, 0.13880125,\n",
       "       0.13044381, 0.04599847, 0.04487684, 0.28447904, 0.12568594,\n",
       "       0.15719637, 0.29713148, 0.17708152, 0.05002144, 0.24546343,\n",
       "       0.12496064, 0.22978841, 0.1308162 , 0.22717583, 0.09212677,\n",
       "       0.10867777, 0.30415669, 0.11356062, 0.28324807, 0.27239509,\n",
       "       0.27489115, 0.06290399, 0.2118543 , 0.03878749, 0.13983211,\n",
       "       0.14852177, 0.24117475, 0.27014063, 0.04910295, 0.13909661,\n",
       "       0.13661083, 0.23582699, 0.12152292, 0.15051049, 0.12236346,\n",
       "       0.13091112, 0.15232078, 0.15919411, 0.04897286, 0.06705771,\n",
       "       0.26769042, 0.13682716, 0.06934757, 0.08354306, 0.33345365,\n",
       "       0.10124125, 0.02785741, 0.19039497, 0.15943559, 0.14049825,\n",
       "       0.12352287, 0.10209692, 0.1421788 , 0.18500766, 0.08391598,\n",
       "       0.20996527, 0.16447103, 0.07247058, 0.14524711, 0.1157865 ,\n",
       "       0.18812667, 0.19711944, 0.16490563, 0.13786333, 0.15528244,\n",
       "       0.180179  , 0.23565499, 0.33352057, 0.12571195, 0.14156402,\n",
       "       0.13125999, 0.17729254, 0.14829461, 0.13107299, 0.25376366,\n",
       "       0.15157398, 0.12536895, 0.12155964, 0.26572583, 0.07761505,\n",
       "       0.15857667, 0.09251566, 0.28728057, 0.14476611, 0.16451901,\n",
       "       0.19733195, 0.13721515, 0.0634058 , 0.08152254, 0.13664717,\n",
       "       0.07453866, 0.29599851, 0.08173847, 0.04233398, 0.13972329,\n",
       "       0.14506267, 0.14568435, 0.07531668, 0.09988907, 0.10324354,\n",
       "       0.10527526, 0.17627007, 0.04491624, 0.11789298, 0.15137728,\n",
       "       0.13242846, 0.1057317 , 0.1044314 , 0.11631137, 0.09380936,\n",
       "       0.11306675, 0.14766519, 0.08064574, 0.22403101, 0.09937075,\n",
       "       0.12705564, 0.07046743, 0.16688125, 0.08207648, 0.08062789,\n",
       "       0.13419103, 0.11038346, 0.1330775 , 0.13754883, 0.1371848 ,\n",
       "       0.11263663, 0.07543357, 0.07991523, 0.04085298, 0.13021858,\n",
       "       0.24883856, 0.15575918, 0.17723782, 0.15483255, 0.23732969,\n",
       "       0.06215574, 0.13722258, 0.10412344, 0.14899973, 0.09964534,\n",
       "       0.12819607, 0.12593608, 0.0635312 , 0.07478758, 0.09193398,\n",
       "       0.14352519, 0.1499475 , 0.30887126, 0.16719257, 0.19339172,\n",
       "       0.1294382 , 0.01597753, 0.11233778, 0.12147613, 0.09968516,\n",
       "       0.10291115, 0.08123902, 0.06646397, 0.06069639, 0.12680621,\n",
       "       0.0292672 , 0.12877222, 0.05520645, 0.10265817, 0.12609127,\n",
       "       0.05332843, 0.06377614, 0.05402531, 0.13226975, 0.09782609,\n",
       "       0.11188256, 0.17201587, 0.15678336, 0.07940871, 0.04021115,\n",
       "       0.09004061, 0.07619351, 0.02900872, 0.1542694 , 0.0824627 ,\n",
       "       0.08481681, 0.1029571 , 0.09175047, 0.02985024, 0.05095514,\n",
       "       0.15015056, 0.07098973, 0.10304704, 0.11691836, 0.20963188,\n",
       "       0.09437478, 0.11616748, 0.09403537, 0.07207518, 0.10659437,\n",
       "       0.10438546, 0.021774  , 0.10473241, 0.10076701, 0.07887272,\n",
       "       0.1566797 , 0.1225424 , 0.10316975, 0.07021469, 0.09990707,\n",
       "       0.12370877, 0.01938359, 0.0862012 , 0.08153234, 0.1145757 ,\n",
       "       0.23177674, 0.08276827, 0.03208108, 0.07323818, 0.06647909,\n",
       "       0.11477574, 0.0369735 , 0.17900357, 0.0963232 , 0.19963774,\n",
       "       0.07413932, 0.15975106, 0.17998824, 0.11653883, 0.07474825,\n",
       "       0.05843339, 0.1803265 , 0.09126785, 0.06228157, 0.13720532,\n",
       "       0.08659744, 0.18608177, 0.12430538, 0.04257659, 0.10107561,\n",
       "       0.13278027, 0.05023272, 0.09469741, 0.18945563, 0.06008108,\n",
       "       0.08742975, 0.10681333, 0.05080188, 0.04585947, 0.06455586,\n",
       "       0.08210533, 0.12890125, 0.09628078, 0.09424232, 0.10083934,\n",
       "       0.05567981, 0.17811924, 0.14594458, 0.07922511, 0.09661516,\n",
       "       0.1102184 , 0.03535326, 0.08584705, 0.03506871, 0.03520178,\n",
       "       0.10513418, 0.01465652, 0.03121213, 0.05564029, 0.03781802,\n",
       "       0.06036013, 0.06032649, 0.04438068, 0.02681159, 0.1109865 ,\n",
       "       0.11619644, 0.08300598, 0.03333269, 0.08896461, 0.1519146 ,\n",
       "       0.05113451, 0.06632285, 0.12493217, 0.060724  , 0.07245958,\n",
       "       0.08584282, 0.03574392, 0.08491522, 0.11937807, 0.15676372,\n",
       "       0.04034422, 0.06752571, 0.18500095, 0.05974858, 0.05553669,\n",
       "       0.04793028, 0.03652711, 0.09773372, 0.0959994 , 0.06342858,\n",
       "       0.06255165, 0.12327416, 0.0833246 , 0.11132341, 0.09094186,\n",
       "       0.15576555, 0.09227603, 0.07914557, 0.07909804, 0.0588276 ,\n",
       "       0.0565023 , 0.03901632, 0.09813186, 0.03707762, 0.0896259 ,\n",
       "       0.24145468, 0.12661635, 0.06386739, 0.03212014, 0.01574198,\n",
       "       0.06928901, 0.06124507, 0.11029491, 0.07894567, 0.02565952,\n",
       "       0.10036533, 0.09441348, 0.0751544 , 0.02641087, 0.10892093,\n",
       "       0.01799143, 0.20212415, 0.04434405, 0.03588656, 0.05990473,\n",
       "       0.02975736, 0.0102202 , 0.00779497, 0.02605224, 0.10253288,\n",
       "       0.0642877 , 0.02438132, 0.0283882 , 0.07250904, 0.07162807,\n",
       "       0.02519965, 0.04933569, 0.01856453, 0.01812807, 0.02854238,\n",
       "       0.01827566, 0.02905732, 0.15314725, 0.01348204, 0.04861017,\n",
       "       0.07025623, 0.03765075, 0.04393085, 0.01337298, 0.        ,\n",
       "       0.03307503, 0.07007541, 0.01358483, 0.02018428, 0.06452683,\n",
       "       0.0391704 , 0.06515931, 0.11396554, 0.02120492, 0.05751778,\n",
       "       0.09672698, 0.0536676 , 0.        , 0.11859462, 0.01489121,\n",
       "       0.05392815, 0.01835286, 0.08660492, 0.03716352, 0.04288717,\n",
       "       0.02430509, 0.02522258, 0.02412507, 0.        , 0.05663817,\n",
       "       0.03392912, 0.04624116, 0.09376763, 0.02836933, 0.0122551 ,\n",
       "       0.01956179, 0.04483851, 0.10776741, 0.05383509, 0.07229433,\n",
       "       0.01609611, 0.02405383, 0.00979026, 0.01554559, 0.05151229,\n",
       "       0.02670848, 0.0379707 , 0.02724132, 0.        , 0.02150154,\n",
       "       0.02766232, 0.02905013, 0.02104086, 0.01768986, 0.02706838,\n",
       "       0.01900342, 0.09851211, 0.01726742, 0.00158919, 0.01984502,\n",
       "       0.01485285, 0.01810589, 0.03773099, 0.03630667, 0.        ,\n",
       "       0.02717391, 0.05841014, 0.00639906, 0.        , 0.        ,\n",
       "       0.        , 0.        , 0.        , 0.        , 0.        ])"
      ]
     },
     "execution_count": 106,
     "metadata": {},
     "output_type": "execute_result"
    }
   ],
   "source": [
    "user_sim[0]"
   ]
  },
  {
   "cell_type": "code",
   "execution_count": 129,
   "metadata": {},
   "outputs": [
    {
     "name": "stdout",
     "output_type": "stream",
     "text": [
      "9724\n",
      "610\n"
     ]
    }
   ],
   "source": [
    "print(len(item_sim[0]))\n",
    "print(len(item_train[0,:]))"
   ]
  },
  {
   "cell_type": "markdown",
   "metadata": {},
   "source": [
    "Use the similarities to make predictions on unknown ratings"
   ]
  },
  {
   "cell_type": "code",
   "execution_count": 131,
   "metadata": {},
   "outputs": [
    {
     "name": "stderr",
     "output_type": "stream",
     "text": [
      "/Library/Frameworks/Python.framework/Versions/3.7/lib/python3.7/site-packages/ipykernel_launcher.py:22: RuntimeWarning: invalid value encountered in double_scalars\n"
     ]
    },
    {
     "ename": "IndexError",
     "evalue": "index 610 is out of bounds for axis 1 with size 610",
     "output_type": "error",
     "traceback": [
      "\u001b[0;31m---------------------------------------------------------------------------\u001b[0m",
      "\u001b[0;31mIndexError\u001b[0m                                Traceback (most recent call last)",
      "\u001b[0;32m<ipython-input-131-2ce46dfeea79>\u001b[0m in \u001b[0;36m<module>\u001b[0;34m\u001b[0m\n\u001b[1;32m     26\u001b[0m \u001b[0;34m\u001b[0m\u001b[0m\n\u001b[1;32m     27\u001b[0m \u001b[0;31m#predictions_matrix = make_ratings_predictions(train, user_sim)\u001b[0m\u001b[0;34m\u001b[0m\u001b[0;34m\u001b[0m\u001b[0;34m\u001b[0m\u001b[0m\n\u001b[0;32m---> 28\u001b[0;31m \u001b[0mpredictions_matrix\u001b[0m \u001b[0;34m=\u001b[0m \u001b[0mmake_ratings_predictions\u001b[0m\u001b[0;34m(\u001b[0m\u001b[0mitem_train\u001b[0m\u001b[0;34m,\u001b[0m \u001b[0mitem_sim\u001b[0m\u001b[0;34m,\u001b[0m \u001b[0;34m'item'\u001b[0m\u001b[0;34m)\u001b[0m\u001b[0;34m\u001b[0m\u001b[0;34m\u001b[0m\u001b[0m\n\u001b[0m\u001b[1;32m     29\u001b[0m \u001b[0;34m\u001b[0m\u001b[0m\n\u001b[1;32m     30\u001b[0m \u001b[0;31m# Compare all nonzero values in prediction matrix with all nonzero values in test set\u001b[0m\u001b[0;34m\u001b[0m\u001b[0;34m\u001b[0m\u001b[0;34m\u001b[0m\u001b[0m\n",
      "\u001b[0;32m<ipython-input-131-2ce46dfeea79>\u001b[0m in \u001b[0;36mmake_ratings_predictions\u001b[0;34m(ratings, similarity, based)\u001b[0m\n\u001b[1;32m     20\u001b[0m         \u001b[0;32mfor\u001b[0m \u001b[0mi\u001b[0m \u001b[0;32min\u001b[0m \u001b[0mrange\u001b[0m\u001b[0;34m(\u001b[0m\u001b[0mn\u001b[0m\u001b[0;34m)\u001b[0m\u001b[0;34m:\u001b[0m\u001b[0;34m\u001b[0m\u001b[0;34m\u001b[0m\u001b[0m\n\u001b[1;32m     21\u001b[0m             \u001b[0;32mfor\u001b[0m \u001b[0mj\u001b[0m \u001b[0;32min\u001b[0m \u001b[0mrange\u001b[0m\u001b[0;34m(\u001b[0m\u001b[0mm\u001b[0m\u001b[0;34m)\u001b[0m\u001b[0;34m:\u001b[0m\u001b[0;34m\u001b[0m\u001b[0;34m\u001b[0m\u001b[0m\n\u001b[0;32m---> 22\u001b[0;31m                 \u001b[0mweighted_sum\u001b[0m \u001b[0;34m=\u001b[0m \u001b[0msimilarity\u001b[0m\u001b[0;34m[\u001b[0m\u001b[0mj\u001b[0m\u001b[0;34m]\u001b[0m\u001b[0;34m.\u001b[0m\u001b[0mdot\u001b[0m\u001b[0;34m(\u001b[0m\u001b[0mratings\u001b[0m\u001b[0;34m[\u001b[0m\u001b[0;34m:\u001b[0m\u001b[0;34m,\u001b[0m \u001b[0mi\u001b[0m\u001b[0;34m]\u001b[0m\u001b[0;34m.\u001b[0m\u001b[0mT\u001b[0m\u001b[0;34m)\u001b[0m \u001b[0;34m/\u001b[0m \u001b[0mnp\u001b[0m\u001b[0;34m.\u001b[0m\u001b[0msum\u001b[0m\u001b[0;34m(\u001b[0m\u001b[0msimilarity\u001b[0m\u001b[0;34m[\u001b[0m\u001b[0mj\u001b[0m\u001b[0;34m]\u001b[0m\u001b[0;34m)\u001b[0m\u001b[0;34m\u001b[0m\u001b[0;34m\u001b[0m\u001b[0m\n\u001b[0m\u001b[1;32m     23\u001b[0m                 \u001b[0mpreds\u001b[0m\u001b[0;34m[\u001b[0m\u001b[0mi\u001b[0m\u001b[0;34m,\u001b[0m\u001b[0mj\u001b[0m\u001b[0;34m]\u001b[0m \u001b[0;34m=\u001b[0m \u001b[0mweighted_sum\u001b[0m\u001b[0;34m\u001b[0m\u001b[0;34m\u001b[0m\u001b[0m\n\u001b[1;32m     24\u001b[0m \u001b[0;34m\u001b[0m\u001b[0m\n",
      "\u001b[0;31mIndexError\u001b[0m: index 610 is out of bounds for axis 1 with size 610"
     ]
    }
   ],
   "source": [
    "def make_ratings_predictions(ratings, similarity, based = 'user'):\n",
    "    # set default array with all 0s. Will be replaced by predicted ratings\n",
    "    preds = np.zeros(ratings.shape)\n",
    "    \n",
    "    # number of users/items\n",
    "    n = len(similarity)\n",
    "    # number of ratings \n",
    "    m = len(ratings[0])\n",
    "    \n",
    "    if based == 'user':\n",
    "        for i in range(n):\n",
    "            for j in range(m):\n",
    "                # For each prediction we take the weighted sum of ratings using the similarity between users as the weights.\n",
    "                # Using numpy dot method we can multiply the entire row in the user similarity matrix by the entire column in\n",
    "                # the ratings matrix and add all those values up. Then we divide by the sum of the same row in the\n",
    "                # user similarities matrix (ie. sum of similarity weights for respective user).\n",
    "                weighted_sum = similarity[i].dot(ratings[:, j]) / np.sum(similarity[i])\n",
    "                preds[i,j] = weighted_sum\n",
    "    elif based == 'item':\n",
    "        for i in range(n):\n",
    "            for j in range(m):\n",
    "                weighted_sum = similarity[j].dot(ratings[:, i].T) / np.sum(similarity[j])\n",
    "                preds[i,j] = weighted_sum\n",
    "        \n",
    "    return preds\n",
    "\n",
    "#predictions_matrix = make_ratings_predictions(train, user_sim)\n",
    "predictions_matrix = make_ratings_predictions(item_train, item_sim, 'item')\n",
    "\n",
    "# Compare all nonzero values in prediction matrix with all nonzero values in test set\n",
    "#predictions = predictions_matrix[test.nonzero()]\n",
    "#actual_ratings = test[test.nonzero()]\n",
    "#mse = mean_squared_error(predictions, actual_ratings)\n",
    "\n",
    "\n",
    "# Compare all nonzero values in prediction matrix with all nonzero values in test set\n",
    "predictions = predictions_matrix[item_test.nonzero()]\n",
    "actual_ratings = item_test[item_test.nonzero()]\n",
    "mse = mean_squared_error(predictions, actual_ratings)\n",
    "\n",
    "print(\"Mean Squared Error for user-based collaborative filtering: {:.3f}\".format(mse))"
   ]
  },
  {
   "cell_type": "markdown",
   "metadata": {},
   "source": [
    "Currently, we are taking into account similarities between all users despite most being not very similar at all. We can try using only the top k most similar users to see if we can get better results."
   ]
  },
  {
   "cell_type": "code",
   "execution_count": 89,
   "metadata": {},
   "outputs": [
    {
     "name": "stdout",
     "output_type": "stream",
     "text": [
      "Mean Squared Error for user-based collaborative filtering using top 30 most similar users: 8.306\n"
     ]
    }
   ],
   "source": [
    "# Same method but only using top k similar users\n",
    "def make_ratings_predictions_top_k(ratings, user_similarity, k):\n",
    "    preds = np.zeros(ratings.shape)\n",
    "    \n",
    "    # number of users\n",
    "    n = len(user_similarity)\n",
    "    # number of ratings \n",
    "    m = len(ratings[0])\n",
    "    \n",
    "    inverse_k = n-k+1\n",
    "    \n",
    "    for i in range(n):\n",
    "        \n",
    "        # Get k most similar users to user i from user_similarity matrix\n",
    "        k_users = np.argsort(user_similarity[:,i])[:inverse_k:-1]\n",
    "        \n",
    "        for j in range(m):\n",
    "            \n",
    "            # index only k most similar users from similarit matrix\n",
    "            weighted_sum = user_similarity[i][k_users].dot(ratings[:, j][k_users]) / np.sum(user_similarity[i][k_users])\n",
    "            preds[i,j] = weighted_sum\n",
    "    return preds\n",
    "\n",
    "\n",
    "k = 30\n",
    "predictions_matrix = make_ratings_predictions_top_k(train, user_sim, k)\n",
    "\n",
    "# Compare all nonzero values in prediction matrix with all nonzero values in test set\n",
    "predictions = predictions_matrix[test.nonzero()]\n",
    "actual_ratings = test[test.nonzero()]\n",
    "mse = mean_squared_error(predictions, actual_ratings)\n",
    "\n",
    "print(\"Mean Squared Error for user-based collaborative filtering using top {} most similar users: {:.3f}\".format(k, mse))"
   ]
  },
  {
   "cell_type": "markdown",
   "metadata": {},
   "source": [
    "A function to request a specific rating on a movie, given the movie ID and user ID."
   ]
  },
  {
   "cell_type": "code",
   "execution_count": 95,
   "metadata": {},
   "outputs": [
    {
     "name": "stdout",
     "output_type": "stream",
     "text": [
      "Predicted rating for user 19 on movie 54 is: 0.735567580568081\n"
     ]
    }
   ],
   "source": [
    "def get_movie_prediction(userid, movieid, predictions):\n",
    "    # Use user lookup dict we made before\n",
    "    u_encoded = user_id_lookup[userid]\n",
    "    \n",
    "    # Use movie lookup dict we made before\n",
    "    m_encoded = movie_id_lookup[movieid]\n",
    "    \n",
    "    # Grab prediction from np array    \n",
    "    return predictions[u_encoded, m_encoded]\n",
    "\n",
    "mid = 54\n",
    "uid = 19\n",
    "p = get_movie_prediction(uid, mid, predictions_matrix)\n",
    "\n",
    "print(\"Predicted rating for user {} on movie {} is: {}\".format(uid,mid,p))"
   ]
  },
  {
   "cell_type": "code",
   "execution_count": null,
   "metadata": {},
   "outputs": [],
   "source": []
  },
  {
   "cell_type": "code",
   "execution_count": null,
   "metadata": {},
   "outputs": [],
   "source": []
  }
 ],
 "metadata": {
  "kernelspec": {
   "display_name": "Python 3",
   "language": "python",
   "name": "python3"
  },
  "language_info": {
   "codemirror_mode": {
    "name": "ipython",
    "version": 3
   },
   "file_extension": ".py",
   "mimetype": "text/x-python",
   "name": "python",
   "nbconvert_exporter": "python",
   "pygments_lexer": "ipython3",
   "version": "3.7.4"
  }
 },
 "nbformat": 4,
 "nbformat_minor": 2
}
